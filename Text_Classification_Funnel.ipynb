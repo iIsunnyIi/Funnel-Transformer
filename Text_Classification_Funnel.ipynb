{
  "nbformat": 4,
  "nbformat_minor": 0,
  "metadata": {
    "colab": {
      "name": "Text_Classification_Funnel.ipynb",
      "provenance": [],
      "collapsed_sections": [],
      "mount_file_id": "11VxxZtRJuMJ0oylvyLruGsi8mz-0Ys9M",
      "authorship_tag": "ABX9TyObz0hujU95oVEK3RSgsDLV",
      "include_colab_link": true
    },
    "kernelspec": {
      "name": "python3",
      "display_name": "Python 3"
    },
    "accelerator": "GPU",
    "widgets": {
      "application/vnd.jupyter.widget-state+json": {
        "47ebbddb37c74c06b28f1162e65e3062": {
          "model_module": "@jupyter-widgets/controls",
          "model_name": "HBoxModel",
          "state": {
            "_view_name": "HBoxView",
            "_dom_classes": [],
            "_model_name": "HBoxModel",
            "_view_module": "@jupyter-widgets/controls",
            "_model_module_version": "1.5.0",
            "_view_count": null,
            "_view_module_version": "1.5.0",
            "box_style": "",
            "layout": "IPY_MODEL_bf976ec9b164469cae383261cd32ca46",
            "_model_module": "@jupyter-widgets/controls",
            "children": [
              "IPY_MODEL_afcf548f9e924ea7a070f054ceddbeeb",
              "IPY_MODEL_21f7385fbdb142208aabda5920964b56"
            ]
          }
        },
        "bf976ec9b164469cae383261cd32ca46": {
          "model_module": "@jupyter-widgets/base",
          "model_name": "LayoutModel",
          "state": {
            "_view_name": "LayoutView",
            "grid_template_rows": null,
            "right": null,
            "justify_content": null,
            "_view_module": "@jupyter-widgets/base",
            "overflow": null,
            "_model_module_version": "1.2.0",
            "_view_count": null,
            "flex_flow": null,
            "width": null,
            "min_width": null,
            "border": null,
            "align_items": null,
            "bottom": null,
            "_model_module": "@jupyter-widgets/base",
            "top": null,
            "grid_column": null,
            "overflow_y": null,
            "overflow_x": null,
            "grid_auto_flow": null,
            "grid_area": null,
            "grid_template_columns": null,
            "flex": null,
            "_model_name": "LayoutModel",
            "justify_items": null,
            "grid_row": null,
            "max_height": null,
            "align_content": null,
            "visibility": null,
            "align_self": null,
            "height": null,
            "min_height": null,
            "padding": null,
            "grid_auto_rows": null,
            "grid_gap": null,
            "max_width": null,
            "order": null,
            "_view_module_version": "1.2.0",
            "grid_template_areas": null,
            "object_position": null,
            "object_fit": null,
            "grid_auto_columns": null,
            "margin": null,
            "display": null,
            "left": null
          }
        },
        "afcf548f9e924ea7a070f054ceddbeeb": {
          "model_module": "@jupyter-widgets/controls",
          "model_name": "FloatProgressModel",
          "state": {
            "_view_name": "ProgressView",
            "style": "IPY_MODEL_1f614dcf3a0e4a98b62922db52d74602",
            "_dom_classes": [],
            "description": "Downloading: 100%",
            "_model_name": "FloatProgressModel",
            "bar_style": "success",
            "max": 704,
            "_view_module": "@jupyter-widgets/controls",
            "_model_module_version": "1.5.0",
            "value": 704,
            "_view_count": null,
            "_view_module_version": "1.5.0",
            "orientation": "horizontal",
            "min": 0,
            "description_tooltip": null,
            "_model_module": "@jupyter-widgets/controls",
            "layout": "IPY_MODEL_9735a92c683647dba631e3b75a928623"
          }
        },
        "21f7385fbdb142208aabda5920964b56": {
          "model_module": "@jupyter-widgets/controls",
          "model_name": "HTMLModel",
          "state": {
            "_view_name": "HTMLView",
            "style": "IPY_MODEL_6aca429aca324272ab7dedfbc03622ca",
            "_dom_classes": [],
            "description": "",
            "_model_name": "HTMLModel",
            "placeholder": "​",
            "_view_module": "@jupyter-widgets/controls",
            "_model_module_version": "1.5.0",
            "value": " 704/704 [00:12&lt;00:00, 58.2B/s]",
            "_view_count": null,
            "_view_module_version": "1.5.0",
            "description_tooltip": null,
            "_model_module": "@jupyter-widgets/controls",
            "layout": "IPY_MODEL_d0416949abbc42bc9a9369e38beb0898"
          }
        },
        "1f614dcf3a0e4a98b62922db52d74602": {
          "model_module": "@jupyter-widgets/controls",
          "model_name": "ProgressStyleModel",
          "state": {
            "_view_name": "StyleView",
            "_model_name": "ProgressStyleModel",
            "description_width": "initial",
            "_view_module": "@jupyter-widgets/base",
            "_model_module_version": "1.5.0",
            "_view_count": null,
            "_view_module_version": "1.2.0",
            "bar_color": null,
            "_model_module": "@jupyter-widgets/controls"
          }
        },
        "9735a92c683647dba631e3b75a928623": {
          "model_module": "@jupyter-widgets/base",
          "model_name": "LayoutModel",
          "state": {
            "_view_name": "LayoutView",
            "grid_template_rows": null,
            "right": null,
            "justify_content": null,
            "_view_module": "@jupyter-widgets/base",
            "overflow": null,
            "_model_module_version": "1.2.0",
            "_view_count": null,
            "flex_flow": null,
            "width": null,
            "min_width": null,
            "border": null,
            "align_items": null,
            "bottom": null,
            "_model_module": "@jupyter-widgets/base",
            "top": null,
            "grid_column": null,
            "overflow_y": null,
            "overflow_x": null,
            "grid_auto_flow": null,
            "grid_area": null,
            "grid_template_columns": null,
            "flex": null,
            "_model_name": "LayoutModel",
            "justify_items": null,
            "grid_row": null,
            "max_height": null,
            "align_content": null,
            "visibility": null,
            "align_self": null,
            "height": null,
            "min_height": null,
            "padding": null,
            "grid_auto_rows": null,
            "grid_gap": null,
            "max_width": null,
            "order": null,
            "_view_module_version": "1.2.0",
            "grid_template_areas": null,
            "object_position": null,
            "object_fit": null,
            "grid_auto_columns": null,
            "margin": null,
            "display": null,
            "left": null
          }
        },
        "6aca429aca324272ab7dedfbc03622ca": {
          "model_module": "@jupyter-widgets/controls",
          "model_name": "DescriptionStyleModel",
          "state": {
            "_view_name": "StyleView",
            "_model_name": "DescriptionStyleModel",
            "description_width": "",
            "_view_module": "@jupyter-widgets/base",
            "_model_module_version": "1.5.0",
            "_view_count": null,
            "_view_module_version": "1.2.0",
            "_model_module": "@jupyter-widgets/controls"
          }
        },
        "d0416949abbc42bc9a9369e38beb0898": {
          "model_module": "@jupyter-widgets/base",
          "model_name": "LayoutModel",
          "state": {
            "_view_name": "LayoutView",
            "grid_template_rows": null,
            "right": null,
            "justify_content": null,
            "_view_module": "@jupyter-widgets/base",
            "overflow": null,
            "_model_module_version": "1.2.0",
            "_view_count": null,
            "flex_flow": null,
            "width": null,
            "min_width": null,
            "border": null,
            "align_items": null,
            "bottom": null,
            "_model_module": "@jupyter-widgets/base",
            "top": null,
            "grid_column": null,
            "overflow_y": null,
            "overflow_x": null,
            "grid_auto_flow": null,
            "grid_area": null,
            "grid_template_columns": null,
            "flex": null,
            "_model_name": "LayoutModel",
            "justify_items": null,
            "grid_row": null,
            "max_height": null,
            "align_content": null,
            "visibility": null,
            "align_self": null,
            "height": null,
            "min_height": null,
            "padding": null,
            "grid_auto_rows": null,
            "grid_gap": null,
            "max_width": null,
            "order": null,
            "_view_module_version": "1.2.0",
            "grid_template_areas": null,
            "object_position": null,
            "object_fit": null,
            "grid_auto_columns": null,
            "margin": null,
            "display": null,
            "left": null
          }
        },
        "d0ec6a97072545d691b04e899bcc3be3": {
          "model_module": "@jupyter-widgets/controls",
          "model_name": "HBoxModel",
          "state": {
            "_view_name": "HBoxView",
            "_dom_classes": [],
            "_model_name": "HBoxModel",
            "_view_module": "@jupyter-widgets/controls",
            "_model_module_version": "1.5.0",
            "_view_count": null,
            "_view_module_version": "1.5.0",
            "box_style": "",
            "layout": "IPY_MODEL_53f18280c2c9415f8906441f3cb0a278",
            "_model_module": "@jupyter-widgets/controls",
            "children": [
              "IPY_MODEL_f7c8e7db0ee047aebb36828a4e923a40",
              "IPY_MODEL_115856ff85ea45179579fa7a2e8aac99"
            ]
          }
        },
        "53f18280c2c9415f8906441f3cb0a278": {
          "model_module": "@jupyter-widgets/base",
          "model_name": "LayoutModel",
          "state": {
            "_view_name": "LayoutView",
            "grid_template_rows": null,
            "right": null,
            "justify_content": null,
            "_view_module": "@jupyter-widgets/base",
            "overflow": null,
            "_model_module_version": "1.2.0",
            "_view_count": null,
            "flex_flow": null,
            "width": null,
            "min_width": null,
            "border": null,
            "align_items": null,
            "bottom": null,
            "_model_module": "@jupyter-widgets/base",
            "top": null,
            "grid_column": null,
            "overflow_y": null,
            "overflow_x": null,
            "grid_auto_flow": null,
            "grid_area": null,
            "grid_template_columns": null,
            "flex": null,
            "_model_name": "LayoutModel",
            "justify_items": null,
            "grid_row": null,
            "max_height": null,
            "align_content": null,
            "visibility": null,
            "align_self": null,
            "height": null,
            "min_height": null,
            "padding": null,
            "grid_auto_rows": null,
            "grid_gap": null,
            "max_width": null,
            "order": null,
            "_view_module_version": "1.2.0",
            "grid_template_areas": null,
            "object_position": null,
            "object_fit": null,
            "grid_auto_columns": null,
            "margin": null,
            "display": null,
            "left": null
          }
        },
        "f7c8e7db0ee047aebb36828a4e923a40": {
          "model_module": "@jupyter-widgets/controls",
          "model_name": "FloatProgressModel",
          "state": {
            "_view_name": "ProgressView",
            "style": "IPY_MODEL_21dff79d2ba849ad99227a0c046127df",
            "_dom_classes": [],
            "description": "Downloading: 100%",
            "_model_name": "FloatProgressModel",
            "bar_style": "success",
            "max": 231485,
            "_view_module": "@jupyter-widgets/controls",
            "_model_module_version": "1.5.0",
            "value": 231485,
            "_view_count": null,
            "_view_module_version": "1.5.0",
            "orientation": "horizontal",
            "min": 0,
            "description_tooltip": null,
            "_model_module": "@jupyter-widgets/controls",
            "layout": "IPY_MODEL_21d52c64a0a640debf175a3000d6d786"
          }
        },
        "115856ff85ea45179579fa7a2e8aac99": {
          "model_module": "@jupyter-widgets/controls",
          "model_name": "HTMLModel",
          "state": {
            "_view_name": "HTMLView",
            "style": "IPY_MODEL_17bbe604bda24e3692f42eb511b5a53e",
            "_dom_classes": [],
            "description": "",
            "_model_name": "HTMLModel",
            "placeholder": "​",
            "_view_module": "@jupyter-widgets/controls",
            "_model_module_version": "1.5.0",
            "value": " 231k/231k [00:00&lt;00:00, 793kB/s]",
            "_view_count": null,
            "_view_module_version": "1.5.0",
            "description_tooltip": null,
            "_model_module": "@jupyter-widgets/controls",
            "layout": "IPY_MODEL_0ee7316c569c45a1a6514096f239a3ec"
          }
        },
        "21dff79d2ba849ad99227a0c046127df": {
          "model_module": "@jupyter-widgets/controls",
          "model_name": "ProgressStyleModel",
          "state": {
            "_view_name": "StyleView",
            "_model_name": "ProgressStyleModel",
            "description_width": "initial",
            "_view_module": "@jupyter-widgets/base",
            "_model_module_version": "1.5.0",
            "_view_count": null,
            "_view_module_version": "1.2.0",
            "bar_color": null,
            "_model_module": "@jupyter-widgets/controls"
          }
        },
        "21d52c64a0a640debf175a3000d6d786": {
          "model_module": "@jupyter-widgets/base",
          "model_name": "LayoutModel",
          "state": {
            "_view_name": "LayoutView",
            "grid_template_rows": null,
            "right": null,
            "justify_content": null,
            "_view_module": "@jupyter-widgets/base",
            "overflow": null,
            "_model_module_version": "1.2.0",
            "_view_count": null,
            "flex_flow": null,
            "width": null,
            "min_width": null,
            "border": null,
            "align_items": null,
            "bottom": null,
            "_model_module": "@jupyter-widgets/base",
            "top": null,
            "grid_column": null,
            "overflow_y": null,
            "overflow_x": null,
            "grid_auto_flow": null,
            "grid_area": null,
            "grid_template_columns": null,
            "flex": null,
            "_model_name": "LayoutModel",
            "justify_items": null,
            "grid_row": null,
            "max_height": null,
            "align_content": null,
            "visibility": null,
            "align_self": null,
            "height": null,
            "min_height": null,
            "padding": null,
            "grid_auto_rows": null,
            "grid_gap": null,
            "max_width": null,
            "order": null,
            "_view_module_version": "1.2.0",
            "grid_template_areas": null,
            "object_position": null,
            "object_fit": null,
            "grid_auto_columns": null,
            "margin": null,
            "display": null,
            "left": null
          }
        },
        "17bbe604bda24e3692f42eb511b5a53e": {
          "model_module": "@jupyter-widgets/controls",
          "model_name": "DescriptionStyleModel",
          "state": {
            "_view_name": "StyleView",
            "_model_name": "DescriptionStyleModel",
            "description_width": "",
            "_view_module": "@jupyter-widgets/base",
            "_model_module_version": "1.5.0",
            "_view_count": null,
            "_view_module_version": "1.2.0",
            "_model_module": "@jupyter-widgets/controls"
          }
        },
        "0ee7316c569c45a1a6514096f239a3ec": {
          "model_module": "@jupyter-widgets/base",
          "model_name": "LayoutModel",
          "state": {
            "_view_name": "LayoutView",
            "grid_template_rows": null,
            "right": null,
            "justify_content": null,
            "_view_module": "@jupyter-widgets/base",
            "overflow": null,
            "_model_module_version": "1.2.0",
            "_view_count": null,
            "flex_flow": null,
            "width": null,
            "min_width": null,
            "border": null,
            "align_items": null,
            "bottom": null,
            "_model_module": "@jupyter-widgets/base",
            "top": null,
            "grid_column": null,
            "overflow_y": null,
            "overflow_x": null,
            "grid_auto_flow": null,
            "grid_area": null,
            "grid_template_columns": null,
            "flex": null,
            "_model_name": "LayoutModel",
            "justify_items": null,
            "grid_row": null,
            "max_height": null,
            "align_content": null,
            "visibility": null,
            "align_self": null,
            "height": null,
            "min_height": null,
            "padding": null,
            "grid_auto_rows": null,
            "grid_gap": null,
            "max_width": null,
            "order": null,
            "_view_module_version": "1.2.0",
            "grid_template_areas": null,
            "object_position": null,
            "object_fit": null,
            "grid_auto_columns": null,
            "margin": null,
            "display": null,
            "left": null
          }
        },
        "6c9d2abc8db846cf8995b1e37dc7ebbc": {
          "model_module": "@jupyter-widgets/controls",
          "model_name": "HBoxModel",
          "state": {
            "_view_name": "HBoxView",
            "_dom_classes": [],
            "_model_name": "HBoxModel",
            "_view_module": "@jupyter-widgets/controls",
            "_model_module_version": "1.5.0",
            "_view_count": null,
            "_view_module_version": "1.5.0",
            "box_style": "",
            "layout": "IPY_MODEL_bf8cc1d96cdc41a786d40dea39055018",
            "_model_module": "@jupyter-widgets/controls",
            "children": [
              "IPY_MODEL_05253152667645a1b79d5fff6158b26d",
              "IPY_MODEL_248698d0a45945e4adae0a005b2ca882"
            ]
          }
        },
        "bf8cc1d96cdc41a786d40dea39055018": {
          "model_module": "@jupyter-widgets/base",
          "model_name": "LayoutModel",
          "state": {
            "_view_name": "LayoutView",
            "grid_template_rows": null,
            "right": null,
            "justify_content": null,
            "_view_module": "@jupyter-widgets/base",
            "overflow": null,
            "_model_module_version": "1.2.0",
            "_view_count": null,
            "flex_flow": null,
            "width": null,
            "min_width": null,
            "border": null,
            "align_items": null,
            "bottom": null,
            "_model_module": "@jupyter-widgets/base",
            "top": null,
            "grid_column": null,
            "overflow_y": null,
            "overflow_x": null,
            "grid_auto_flow": null,
            "grid_area": null,
            "grid_template_columns": null,
            "flex": null,
            "_model_name": "LayoutModel",
            "justify_items": null,
            "grid_row": null,
            "max_height": null,
            "align_content": null,
            "visibility": null,
            "align_self": null,
            "height": null,
            "min_height": null,
            "padding": null,
            "grid_auto_rows": null,
            "grid_gap": null,
            "max_width": null,
            "order": null,
            "_view_module_version": "1.2.0",
            "grid_template_areas": null,
            "object_position": null,
            "object_fit": null,
            "grid_auto_columns": null,
            "margin": null,
            "display": null,
            "left": null
          }
        },
        "05253152667645a1b79d5fff6158b26d": {
          "model_module": "@jupyter-widgets/controls",
          "model_name": "FloatProgressModel",
          "state": {
            "_view_name": "ProgressView",
            "style": "IPY_MODEL_459acf66374d4310b9b48d831e858e39",
            "_dom_classes": [],
            "description": "100%",
            "_model_name": "FloatProgressModel",
            "bar_style": "success",
            "max": 3,
            "_view_module": "@jupyter-widgets/controls",
            "_model_module_version": "1.5.0",
            "value": 3,
            "_view_count": null,
            "_view_module_version": "1.5.0",
            "orientation": "horizontal",
            "min": 0,
            "description_tooltip": null,
            "_model_module": "@jupyter-widgets/controls",
            "layout": "IPY_MODEL_6d1f88ed6dc54f98a10c617854443457"
          }
        },
        "248698d0a45945e4adae0a005b2ca882": {
          "model_module": "@jupyter-widgets/controls",
          "model_name": "HTMLModel",
          "state": {
            "_view_name": "HTMLView",
            "style": "IPY_MODEL_f1d90450b7e749b5b7ef72bb3633ee6f",
            "_dom_classes": [],
            "description": "",
            "_model_name": "HTMLModel",
            "placeholder": "​",
            "_view_module": "@jupyter-widgets/controls",
            "_model_module_version": "1.5.0",
            "value": " 3/3 [16:54&lt;00:00, 338.28s/it]",
            "_view_count": null,
            "_view_module_version": "1.5.0",
            "description_tooltip": null,
            "_model_module": "@jupyter-widgets/controls",
            "layout": "IPY_MODEL_f123000f2454405bbf2eb0a4d253d965"
          }
        },
        "459acf66374d4310b9b48d831e858e39": {
          "model_module": "@jupyter-widgets/controls",
          "model_name": "ProgressStyleModel",
          "state": {
            "_view_name": "StyleView",
            "_model_name": "ProgressStyleModel",
            "description_width": "initial",
            "_view_module": "@jupyter-widgets/base",
            "_model_module_version": "1.5.0",
            "_view_count": null,
            "_view_module_version": "1.2.0",
            "bar_color": null,
            "_model_module": "@jupyter-widgets/controls"
          }
        },
        "6d1f88ed6dc54f98a10c617854443457": {
          "model_module": "@jupyter-widgets/base",
          "model_name": "LayoutModel",
          "state": {
            "_view_name": "LayoutView",
            "grid_template_rows": null,
            "right": null,
            "justify_content": null,
            "_view_module": "@jupyter-widgets/base",
            "overflow": null,
            "_model_module_version": "1.2.0",
            "_view_count": null,
            "flex_flow": null,
            "width": null,
            "min_width": null,
            "border": null,
            "align_items": null,
            "bottom": null,
            "_model_module": "@jupyter-widgets/base",
            "top": null,
            "grid_column": null,
            "overflow_y": null,
            "overflow_x": null,
            "grid_auto_flow": null,
            "grid_area": null,
            "grid_template_columns": null,
            "flex": null,
            "_model_name": "LayoutModel",
            "justify_items": null,
            "grid_row": null,
            "max_height": null,
            "align_content": null,
            "visibility": null,
            "align_self": null,
            "height": null,
            "min_height": null,
            "padding": null,
            "grid_auto_rows": null,
            "grid_gap": null,
            "max_width": null,
            "order": null,
            "_view_module_version": "1.2.0",
            "grid_template_areas": null,
            "object_position": null,
            "object_fit": null,
            "grid_auto_columns": null,
            "margin": null,
            "display": null,
            "left": null
          }
        },
        "f1d90450b7e749b5b7ef72bb3633ee6f": {
          "model_module": "@jupyter-widgets/controls",
          "model_name": "DescriptionStyleModel",
          "state": {
            "_view_name": "StyleView",
            "_model_name": "DescriptionStyleModel",
            "description_width": "",
            "_view_module": "@jupyter-widgets/base",
            "_model_module_version": "1.5.0",
            "_view_count": null,
            "_view_module_version": "1.2.0",
            "_model_module": "@jupyter-widgets/controls"
          }
        },
        "f123000f2454405bbf2eb0a4d253d965": {
          "model_module": "@jupyter-widgets/base",
          "model_name": "LayoutModel",
          "state": {
            "_view_name": "LayoutView",
            "grid_template_rows": null,
            "right": null,
            "justify_content": null,
            "_view_module": "@jupyter-widgets/base",
            "overflow": null,
            "_model_module_version": "1.2.0",
            "_view_count": null,
            "flex_flow": null,
            "width": null,
            "min_width": null,
            "border": null,
            "align_items": null,
            "bottom": null,
            "_model_module": "@jupyter-widgets/base",
            "top": null,
            "grid_column": null,
            "overflow_y": null,
            "overflow_x": null,
            "grid_auto_flow": null,
            "grid_area": null,
            "grid_template_columns": null,
            "flex": null,
            "_model_name": "LayoutModel",
            "justify_items": null,
            "grid_row": null,
            "max_height": null,
            "align_content": null,
            "visibility": null,
            "align_self": null,
            "height": null,
            "min_height": null,
            "padding": null,
            "grid_auto_rows": null,
            "grid_gap": null,
            "max_width": null,
            "order": null,
            "_view_module_version": "1.2.0",
            "grid_template_areas": null,
            "object_position": null,
            "object_fit": null,
            "grid_auto_columns": null,
            "margin": null,
            "display": null,
            "left": null
          }
        }
      }
    }
  },
  "cells": [
    {
      "cell_type": "markdown",
      "metadata": {
        "id": "view-in-github",
        "colab_type": "text"
      },
      "source": [
        "<a href=\"https://colab.research.google.com/github/iIsunnyIi/Funnel-Transformer/blob/main/Text_Classification_Funnel.ipynb\" target=\"_parent\"><img src=\"https://colab.research.google.com/assets/colab-badge.svg\" alt=\"Open In Colab\"/></a>"
      ]
    },
    {
      "cell_type": "code",
      "metadata": {
        "colab": {
          "base_uri": "https://localhost:8080/"
        },
        "id": "5ysvOSUf0Mpe",
        "outputId": "e60c52f8-6bf7-4b6a-c55e-4edafba5e110"
      },
      "source": [
        "!pip install pytorch-transformers"
      ],
      "execution_count": null,
      "outputs": [
        {
          "output_type": "stream",
          "text": [
            "Collecting pytorch-transformers\n",
            "\u001b[?25l  Downloading https://files.pythonhosted.org/packages/a3/b7/d3d18008a67e0b968d1ab93ad444fc05699403fa662f634b2f2c318a508b/pytorch_transformers-1.2.0-py3-none-any.whl (176kB)\n",
            "\u001b[K     |████████████████████████████████| 184kB 9.4MB/s \n",
            "\u001b[?25hCollecting sacremoses\n",
            "\u001b[?25l  Downloading https://files.pythonhosted.org/packages/7d/34/09d19aff26edcc8eb2a01bed8e98f13a1537005d31e95233fd48216eed10/sacremoses-0.0.43.tar.gz (883kB)\n",
            "\u001b[K     |████████████████████████████████| 890kB 13.5MB/s \n",
            "\u001b[?25hCollecting boto3\n",
            "\u001b[?25l  Downloading https://files.pythonhosted.org/packages/35/8e/828879111f9a5fe2092c8aacd664700864c58f4c2dd74947595cc6f884b1/boto3-1.16.38-py2.py3-none-any.whl (130kB)\n",
            "\u001b[K     |████████████████████████████████| 133kB 23.5MB/s \n",
            "\u001b[?25hRequirement already satisfied: numpy in /usr/local/lib/python3.6/dist-packages (from pytorch-transformers) (1.18.5)\n",
            "Collecting sentencepiece\n",
            "\u001b[?25l  Downloading https://files.pythonhosted.org/packages/e5/2d/6d4ca4bef9a67070fa1cac508606328329152b1df10bdf31fb6e4e727894/sentencepiece-0.1.94-cp36-cp36m-manylinux2014_x86_64.whl (1.1MB)\n",
            "\u001b[K     |████████████████████████████████| 1.1MB 19.2MB/s \n",
            "\u001b[?25hRequirement already satisfied: torch>=1.0.0 in /usr/local/lib/python3.6/dist-packages (from pytorch-transformers) (1.7.0+cu101)\n",
            "Requirement already satisfied: tqdm in /usr/local/lib/python3.6/dist-packages (from pytorch-transformers) (4.41.1)\n",
            "Requirement already satisfied: requests in /usr/local/lib/python3.6/dist-packages (from pytorch-transformers) (2.23.0)\n",
            "Requirement already satisfied: regex in /usr/local/lib/python3.6/dist-packages (from pytorch-transformers) (2019.12.20)\n",
            "Requirement already satisfied: six in /usr/local/lib/python3.6/dist-packages (from sacremoses->pytorch-transformers) (1.15.0)\n",
            "Requirement already satisfied: click in /usr/local/lib/python3.6/dist-packages (from sacremoses->pytorch-transformers) (7.1.2)\n",
            "Requirement already satisfied: joblib in /usr/local/lib/python3.6/dist-packages (from sacremoses->pytorch-transformers) (0.17.0)\n",
            "Collecting s3transfer<0.4.0,>=0.3.0\n",
            "\u001b[?25l  Downloading https://files.pythonhosted.org/packages/69/79/e6afb3d8b0b4e96cefbdc690f741d7dd24547ff1f94240c997a26fa908d3/s3transfer-0.3.3-py2.py3-none-any.whl (69kB)\n",
            "\u001b[K     |████████████████████████████████| 71kB 11.3MB/s \n",
            "\u001b[?25hCollecting botocore<1.20.0,>=1.19.38\n",
            "\u001b[?25l  Downloading https://files.pythonhosted.org/packages/86/33/a87bdbb4d572783a512039bc75ea88bd6c85868074b1af857683e98dac69/botocore-1.19.38-py2.py3-none-any.whl (7.1MB)\n",
            "\u001b[K     |████████████████████████████████| 7.1MB 32.0MB/s \n",
            "\u001b[?25hCollecting jmespath<1.0.0,>=0.7.1\n",
            "  Downloading https://files.pythonhosted.org/packages/07/cb/5f001272b6faeb23c1c9e0acc04d48eaaf5c862c17709d20e3469c6e0139/jmespath-0.10.0-py2.py3-none-any.whl\n",
            "Requirement already satisfied: future in /usr/local/lib/python3.6/dist-packages (from torch>=1.0.0->pytorch-transformers) (0.16.0)\n",
            "Requirement already satisfied: typing-extensions in /usr/local/lib/python3.6/dist-packages (from torch>=1.0.0->pytorch-transformers) (3.7.4.3)\n",
            "Requirement already satisfied: dataclasses in /usr/local/lib/python3.6/dist-packages (from torch>=1.0.0->pytorch-transformers) (0.8)\n",
            "Requirement already satisfied: urllib3!=1.25.0,!=1.25.1,<1.26,>=1.21.1 in /usr/local/lib/python3.6/dist-packages (from requests->pytorch-transformers) (1.24.3)\n",
            "Requirement already satisfied: idna<3,>=2.5 in /usr/local/lib/python3.6/dist-packages (from requests->pytorch-transformers) (2.10)\n",
            "Requirement already satisfied: certifi>=2017.4.17 in /usr/local/lib/python3.6/dist-packages (from requests->pytorch-transformers) (2020.12.5)\n",
            "Requirement already satisfied: chardet<4,>=3.0.2 in /usr/local/lib/python3.6/dist-packages (from requests->pytorch-transformers) (3.0.4)\n",
            "Requirement already satisfied: python-dateutil<3.0.0,>=2.1 in /usr/local/lib/python3.6/dist-packages (from botocore<1.20.0,>=1.19.38->boto3->pytorch-transformers) (2.8.1)\n",
            "Building wheels for collected packages: sacremoses\n",
            "  Building wheel for sacremoses (setup.py) ... \u001b[?25l\u001b[?25hdone\n",
            "  Created wheel for sacremoses: filename=sacremoses-0.0.43-cp36-none-any.whl size=893261 sha256=6310f147fcfa7ce53a33f8ddadbd5767cfffb6093e53d04ef7fd7719d705aa8a\n",
            "  Stored in directory: /root/.cache/pip/wheels/29/3c/fd/7ce5c3f0666dab31a50123635e6fb5e19ceb42ce38d4e58f45\n",
            "Successfully built sacremoses\n",
            "\u001b[31mERROR: botocore 1.19.38 has requirement urllib3<1.27,>=1.25.4; python_version != \"3.4\", but you'll have urllib3 1.24.3 which is incompatible.\u001b[0m\n",
            "Installing collected packages: sacremoses, jmespath, botocore, s3transfer, boto3, sentencepiece, pytorch-transformers\n",
            "Successfully installed boto3-1.16.38 botocore-1.19.38 jmespath-0.10.0 pytorch-transformers-1.2.0 s3transfer-0.3.3 sacremoses-0.0.43 sentencepiece-0.1.94\n"
          ],
          "name": "stdout"
        }
      ]
    },
    {
      "cell_type": "code",
      "metadata": {
        "colab": {
          "base_uri": "https://localhost:8080/"
        },
        "id": "CKdT8s8N4bHO",
        "outputId": "c376cb2d-8552-4b4f-9349-8701a032fba4"
      },
      "source": [
        "!pip install transformers"
      ],
      "execution_count": null,
      "outputs": [
        {
          "output_type": "stream",
          "text": [
            "Collecting transformers\n",
            "\u001b[?25l  Downloading https://files.pythonhosted.org/packages/ed/db/98c3ea1a78190dac41c0127a063abf92bd01b4b0b6970a6db1c2f5b66fa0/transformers-4.0.1-py3-none-any.whl (1.4MB)\n",
            "\u001b[K     |████████████████████████████████| 1.4MB 8.7MB/s \n",
            "\u001b[?25hRequirement already satisfied: packaging in /usr/local/lib/python3.6/dist-packages (from transformers) (20.7)\n",
            "Requirement already satisfied: requests in /usr/local/lib/python3.6/dist-packages (from transformers) (2.23.0)\n",
            "Requirement already satisfied: dataclasses; python_version < \"3.7\" in /usr/local/lib/python3.6/dist-packages (from transformers) (0.8)\n",
            "Requirement already satisfied: tqdm>=4.27 in /usr/local/lib/python3.6/dist-packages (from transformers) (4.41.1)\n",
            "Requirement already satisfied: numpy in /usr/local/lib/python3.6/dist-packages (from transformers) (1.18.5)\n",
            "Requirement already satisfied: filelock in /usr/local/lib/python3.6/dist-packages (from transformers) (3.0.12)\n",
            "Collecting tokenizers==0.9.4\n",
            "\u001b[?25l  Downloading https://files.pythonhosted.org/packages/0f/1c/e789a8b12e28be5bc1ce2156cf87cb522b379be9cadc7ad8091a4cc107c4/tokenizers-0.9.4-cp36-cp36m-manylinux2010_x86_64.whl (2.9MB)\n",
            "\u001b[K     |████████████████████████████████| 2.9MB 26.2MB/s \n",
            "\u001b[?25hRequirement already satisfied: regex!=2019.12.17 in /usr/local/lib/python3.6/dist-packages (from transformers) (2019.12.20)\n",
            "Requirement already satisfied: sacremoses in /usr/local/lib/python3.6/dist-packages (from transformers) (0.0.43)\n",
            "Requirement already satisfied: pyparsing>=2.0.2 in /usr/local/lib/python3.6/dist-packages (from packaging->transformers) (2.4.7)\n",
            "Requirement already satisfied: urllib3!=1.25.0,!=1.25.1,<1.26,>=1.21.1 in /usr/local/lib/python3.6/dist-packages (from requests->transformers) (1.24.3)\n",
            "Requirement already satisfied: chardet<4,>=3.0.2 in /usr/local/lib/python3.6/dist-packages (from requests->transformers) (3.0.4)\n",
            "Requirement already satisfied: certifi>=2017.4.17 in /usr/local/lib/python3.6/dist-packages (from requests->transformers) (2020.12.5)\n",
            "Requirement already satisfied: idna<3,>=2.5 in /usr/local/lib/python3.6/dist-packages (from requests->transformers) (2.10)\n",
            "Requirement already satisfied: joblib in /usr/local/lib/python3.6/dist-packages (from sacremoses->transformers) (0.17.0)\n",
            "Requirement already satisfied: click in /usr/local/lib/python3.6/dist-packages (from sacremoses->transformers) (7.1.2)\n",
            "Requirement already satisfied: six in /usr/local/lib/python3.6/dist-packages (from sacremoses->transformers) (1.15.0)\n",
            "Installing collected packages: tokenizers, transformers\n",
            "Successfully installed tokenizers-0.9.4 transformers-4.0.1\n"
          ],
          "name": "stdout"
        }
      ]
    },
    {
      "cell_type": "code",
      "metadata": {
        "colab": {
          "base_uri": "https://localhost:8080/"
        },
        "id": "ht51WypfzX0a",
        "outputId": "e5517841-a971-450f-b17f-3536163afb2c"
      },
      "source": [
        "!nvidia-smi"
      ],
      "execution_count": null,
      "outputs": [
        {
          "output_type": "stream",
          "text": [
            "Thu Dec 17 01:47:43 2020       \n",
            "+-----------------------------------------------------------------------------+\n",
            "| NVIDIA-SMI 455.45.01    Driver Version: 418.67       CUDA Version: 10.1     |\n",
            "|-------------------------------+----------------------+----------------------+\n",
            "| GPU  Name        Persistence-M| Bus-Id        Disp.A | Volatile Uncorr. ECC |\n",
            "| Fan  Temp  Perf  Pwr:Usage/Cap|         Memory-Usage | GPU-Util  Compute M. |\n",
            "|                               |                      |               MIG M. |\n",
            "|===============================+======================+======================|\n",
            "|   0  Tesla T4            Off  | 00000000:00:04.0 Off |                    0 |\n",
            "| N/A   42C    P8    10W /  70W |     10MiB / 15079MiB |      0%      Default |\n",
            "|                               |                      |                 ERR! |\n",
            "+-------------------------------+----------------------+----------------------+\n",
            "                                                                               \n",
            "+-----------------------------------------------------------------------------+\n",
            "| Processes:                                                                  |\n",
            "|  GPU   GI   CI        PID   Type   Process name                  GPU Memory |\n",
            "|        ID   ID                                                   Usage      |\n",
            "|=============================================================================|\n",
            "|  No running processes found                                                 |\n",
            "+-----------------------------------------------------------------------------+\n"
          ],
          "name": "stdout"
        }
      ]
    },
    {
      "cell_type": "code",
      "metadata": {
        "colab": {
          "base_uri": "https://localhost:8080/"
        },
        "id": "DnsPNnMszdoN",
        "outputId": "91ec9c4f-ec7a-45a1-ab32-b7c120b0669c"
      },
      "source": [
        "import torch\r\n",
        "torch.cuda.is_available()"
      ],
      "execution_count": null,
      "outputs": [
        {
          "output_type": "execute_result",
          "data": {
            "text/plain": [
              "True"
            ]
          },
          "metadata": {
            "tags": []
          },
          "execution_count": 25
        }
      ]
    },
    {
      "cell_type": "code",
      "metadata": {
        "id": "zTa5ej220cNR"
      },
      "source": [
        "import pandas as pd\r\n",
        "import numpy as np\r\n",
        "import json, re\r\n",
        "from tqdm import tqdm_notebook\r\n",
        "from uuid import uuid4\r\n",
        "\r\n",
        "## Torch Modules\r\n",
        "import torch\r\n",
        "import torch.optim as optim\r\n",
        "import torch.nn as nn\r\n",
        "import torch.nn.functional as F\r\n",
        "from torch.autograd import Variable\r\n",
        "from torch.utils.data import Dataset, DataLoader"
      ],
      "execution_count": null,
      "outputs": []
    },
    {
      "cell_type": "code",
      "metadata": {
        "id": "uL027mghwK-b"
      },
      "source": [
        ">>> from transformers import FunnelTokenizer, FunnelForSequenceClassification\r\n",
        ">>> import torch"
      ],
      "execution_count": null,
      "outputs": []
    },
    {
      "cell_type": "code",
      "metadata": {
        "id": "KjCMl50gvmuc"
      },
      "source": [
        "dataset_path = \"/content/drive/MyDrive/nlu-benchmark-master/2017-06-custom-intent-engines/\""
      ],
      "execution_count": null,
      "outputs": []
    },
    {
      "cell_type": "code",
      "metadata": {
        "colab": {
          "base_uri": "https://localhost:8080/",
          "height": 322
        },
        "id": "IjvoGydmvwG6",
        "outputId": "da0b84c1-22c3-4a12-ebd3-d3efa41ad91f"
      },
      "source": [
        "dataset = pd.DataFrame(columns = ['utterance', 'label'])\r\n",
        "for intent in ['AddToPlaylist', 'BookRestaurant', 'GetWeather', 'PlayMusic', 'RateBook', 'SearchCreativeWork',\r\n",
        "               'SearchScreeningEvent']:\r\n",
        "    with open(dataset_path + intent + \"/train_\" + intent + \".json\",\r\n",
        "              encoding='cp1251') as data_file:\r\n",
        "        data = json.load(data_file)\r\n",
        "    print(\"Class: {}, # utterances: {}\".format(intent,len(data[intent])))\r\n",
        "    texts = []\r\n",
        "    for i in range(len(data[intent])):\r\n",
        "        text = ''\r\n",
        "        for j in range(len(data[intent][i]['data'])):\r\n",
        "            text += data[intent][i]['data'][j]['text']\r\n",
        "        dataset = dataset.append({'utterance': text, 'label': intent}, ignore_index=True)\r\n",
        "dataset.tail()"
      ],
      "execution_count": null,
      "outputs": [
        {
          "output_type": "stream",
          "text": [
            "Class: AddToPlaylist, # utterances: 300\n",
            "Class: BookRestaurant, # utterances: 300\n",
            "Class: GetWeather, # utterances: 300\n",
            "Class: PlayMusic, # utterances: 300\n",
            "Class: RateBook, # utterances: 300\n",
            "Class: SearchCreativeWork, # utterances: 300\n",
            "Class: SearchScreeningEvent, # utterances: 300\n"
          ],
          "name": "stdout"
        },
        {
          "output_type": "execute_result",
          "data": {
            "text/html": [
              "<div>\n",
              "<style scoped>\n",
              "    .dataframe tbody tr th:only-of-type {\n",
              "        vertical-align: middle;\n",
              "    }\n",
              "\n",
              "    .dataframe tbody tr th {\n",
              "        vertical-align: top;\n",
              "    }\n",
              "\n",
              "    .dataframe thead th {\n",
              "        text-align: right;\n",
              "    }\n",
              "</style>\n",
              "<table border=\"1\" class=\"dataframe\">\n",
              "  <thead>\n",
              "    <tr style=\"text-align: right;\">\n",
              "      <th></th>\n",
              "      <th>utterance</th>\n",
              "      <th>label</th>\n",
              "    </tr>\n",
              "  </thead>\n",
              "  <tbody>\n",
              "    <tr>\n",
              "      <th>2095</th>\n",
              "      <td>Is Across the Line playing at the closest movi...</td>\n",
              "      <td>SearchScreeningEvent</td>\n",
              "    </tr>\n",
              "    <tr>\n",
              "      <th>2096</th>\n",
              "      <td>Which animated movies are playing in the neigh...</td>\n",
              "      <td>SearchScreeningEvent</td>\n",
              "    </tr>\n",
              "    <tr>\n",
              "      <th>2097</th>\n",
              "      <td>Where is They Always Return at Dawn playing</td>\n",
              "      <td>SearchScreeningEvent</td>\n",
              "    </tr>\n",
              "    <tr>\n",
              "      <th>2098</th>\n",
              "      <td>What is the movie schedule in the neighborhood</td>\n",
              "      <td>SearchScreeningEvent</td>\n",
              "    </tr>\n",
              "    <tr>\n",
              "      <th>2099</th>\n",
              "      <td>Tell me when Howling II: Your Sister Is a Were...</td>\n",
              "      <td>SearchScreeningEvent</td>\n",
              "    </tr>\n",
              "  </tbody>\n",
              "</table>\n",
              "</div>"
            ],
            "text/plain": [
              "                                              utterance                 label\n",
              "2095  Is Across the Line playing at the closest movi...  SearchScreeningEvent\n",
              "2096  Which animated movies are playing in the neigh...  SearchScreeningEvent\n",
              "2097        Where is They Always Return at Dawn playing  SearchScreeningEvent\n",
              "2098     What is the movie schedule in the neighborhood  SearchScreeningEvent\n",
              "2099  Tell me when Howling II: Your Sister Is a Were...  SearchScreeningEvent"
            ]
          },
          "metadata": {
            "tags": []
          },
          "execution_count": 29
        }
      ]
    },
    {
      "cell_type": "code",
      "metadata": {
        "colab": {
          "base_uri": "https://localhost:8080/"
        },
        "id": "5ZhOFxBrwZDq",
        "outputId": "43638262-4c5f-438d-9755-d1ebcddbb082"
      },
      "source": [
        "label_to_ix = {}\r\n",
        "for label in dataset.label:\r\n",
        "    for word in label.split():\r\n",
        "        if word not in label_to_ix:\r\n",
        "            label_to_ix[word]=len(label_to_ix)\r\n",
        "label_to_ix"
      ],
      "execution_count": null,
      "outputs": [
        {
          "output_type": "execute_result",
          "data": {
            "text/plain": [
              "{'AddToPlaylist': 0,\n",
              " 'BookRestaurant': 1,\n",
              " 'GetWeather': 2,\n",
              " 'PlayMusic': 3,\n",
              " 'RateBook': 4,\n",
              " 'SearchCreativeWork': 5,\n",
              " 'SearchScreeningEvent': 6}"
            ]
          },
          "metadata": {
            "tags": []
          },
          "execution_count": 30
        }
      ]
    },
    {
      "cell_type": "code",
      "metadata": {
        "id": "JK782uZ4vO9Q"
      },
      "source": [
        "from transformers import FunnelModel, RobertaTokenizer\r\n",
        "from transformers import FunnelForSequenceClassification, FunnelConfig"
      ],
      "execution_count": null,
      "outputs": []
    },
    {
      "cell_type": "code",
      "metadata": {
        "colab": {
          "base_uri": "https://localhost:8080/",
          "height": 1000,
          "referenced_widgets": [
            "47ebbddb37c74c06b28f1162e65e3062",
            "bf976ec9b164469cae383261cd32ca46",
            "afcf548f9e924ea7a070f054ceddbeeb",
            "21f7385fbdb142208aabda5920964b56",
            "1f614dcf3a0e4a98b62922db52d74602",
            "9735a92c683647dba631e3b75a928623",
            "6aca429aca324272ab7dedfbc03622ca",
            "d0416949abbc42bc9a9369e38beb0898"
          ]
        },
        "id": "0n7MPognwgHF",
        "outputId": "2da21fc5-7068-4dfd-f62b-d68cd0555250"
      },
      "source": [
        "config = FunnelConfig.from_pretrained('funnel-transformer/small-base')\r\n",
        "config.num_labels = len(list(label_to_ix.values()))\r\n",
        "config"
      ],
      "execution_count": null,
      "outputs": [
        {
          "output_type": "display_data",
          "data": {
            "application/vnd.jupyter.widget-view+json": {
              "model_id": "47ebbddb37c74c06b28f1162e65e3062",
              "version_minor": 0,
              "version_major": 2
            },
            "text/plain": [
              "HBox(children=(FloatProgress(value=0.0, description='Downloading', max=704.0, style=ProgressStyle(description_…"
            ]
          },
          "metadata": {
            "tags": []
          }
        },
        {
          "output_type": "stream",
          "text": [
            "\n"
          ],
          "name": "stdout"
        },
        {
          "output_type": "execute_result",
          "data": {
            "text/plain": [
              "FunnelConfig {\n",
              "  \"activation_dropout\": 0.0,\n",
              "  \"architectures\": [\n",
              "    \"FunnelBaseModel\"\n",
              "  ],\n",
              "  \"attention_dropout\": 0.1,\n",
              "  \"attention_type\": \"relative_shift\",\n",
              "  \"block_repeats\": [\n",
              "    1,\n",
              "    1,\n",
              "    1\n",
              "  ],\n",
              "  \"block_sizes\": [\n",
              "    4,\n",
              "    4,\n",
              "    4\n",
              "  ],\n",
              "  \"d_head\": 64,\n",
              "  \"d_inner\": 3072,\n",
              "  \"d_model\": 768,\n",
              "  \"hidden_act\": \"gelu_new\",\n",
              "  \"hidden_dropout\": 0.1,\n",
              "  \"id2label\": {\n",
              "    \"0\": \"LABEL_0\",\n",
              "    \"1\": \"LABEL_1\",\n",
              "    \"2\": \"LABEL_2\",\n",
              "    \"3\": \"LABEL_3\",\n",
              "    \"4\": \"LABEL_4\",\n",
              "    \"5\": \"LABEL_5\",\n",
              "    \"6\": \"LABEL_6\"\n",
              "  },\n",
              "  \"initializer_range\": 0.1,\n",
              "  \"initializer_std\": null,\n",
              "  \"label2id\": {\n",
              "    \"LABEL_0\": 0,\n",
              "    \"LABEL_1\": 1,\n",
              "    \"LABEL_2\": 2,\n",
              "    \"LABEL_3\": 3,\n",
              "    \"LABEL_4\": 4,\n",
              "    \"LABEL_5\": 5,\n",
              "    \"LABEL_6\": 6\n",
              "  },\n",
              "  \"layer_norm_eps\": 1e-09,\n",
              "  \"max_position_embeddings\": 512,\n",
              "  \"model_type\": \"funnel\",\n",
              "  \"n_head\": 12,\n",
              "  \"num_decoder_layers\": 2,\n",
              "  \"pool_q_only\": true,\n",
              "  \"pooling_type\": \"mean\",\n",
              "  \"rel_attn_type\": \"factorized\",\n",
              "  \"separate_cls\": true,\n",
              "  \"truncate_seq\": true,\n",
              "  \"type_vocab_size\": 3,\n",
              "  \"vocab_size\": 30522\n",
              "}"
            ]
          },
          "metadata": {
            "tags": []
          },
          "execution_count": 32
        }
      ]
    },
    {
      "cell_type": "code",
      "metadata": {
        "colab": {
          "base_uri": "https://localhost:8080/",
          "height": 66,
          "referenced_widgets": [
            "d0ec6a97072545d691b04e899bcc3be3",
            "53f18280c2c9415f8906441f3cb0a278",
            "f7c8e7db0ee047aebb36828a4e923a40",
            "115856ff85ea45179579fa7a2e8aac99",
            "21dff79d2ba849ad99227a0c046127df",
            "21d52c64a0a640debf175a3000d6d786",
            "17bbe604bda24e3692f42eb511b5a53e",
            "0ee7316c569c45a1a6514096f239a3ec"
          ]
        },
        "id": "PIVCCPEwwJnW",
        "outputId": "ec6f3710-94b5-41bd-db65-381d523c1888"
      },
      "source": [
        "tokenizer = FunnelTokenizer.from_pretrained('funnel-transformer/small-base')\r\n",
        "model = FunnelForSequenceClassification(config)"
      ],
      "execution_count": null,
      "outputs": [
        {
          "output_type": "display_data",
          "data": {
            "application/vnd.jupyter.widget-view+json": {
              "model_id": "d0ec6a97072545d691b04e899bcc3be3",
              "version_minor": 0,
              "version_major": 2
            },
            "text/plain": [
              "HBox(children=(FloatProgress(value=0.0, description='Downloading', max=231485.0, style=ProgressStyle(descripti…"
            ]
          },
          "metadata": {
            "tags": []
          }
        },
        {
          "output_type": "stream",
          "text": [
            "\n"
          ],
          "name": "stdout"
        }
      ]
    },
    {
      "cell_type": "code",
      "metadata": {
        "id": "fxwygJ1mwaAo"
      },
      "source": [
        "def prepare_features(seq_1, max_seq_length = 300, \r\n",
        "             zero_pad = False, include_CLS_token = True, include_SEP_token = True):\r\n",
        "    ## Tokenzine Input\r\n",
        "    tokens_a = tokenizer.tokenize(seq_1)\r\n",
        "\r\n",
        "    ## Truncate\r\n",
        "    if len(tokens_a) > max_seq_length - 2:\r\n",
        "        tokens_a = tokens_a[0:(max_seq_length - 2)]\r\n",
        "    ## Initialize Tokens\r\n",
        "    tokens = []\r\n",
        "    if include_CLS_token:\r\n",
        "        tokens.append(tokenizer.cls_token)\r\n",
        "    ## Add Tokens and separators\r\n",
        "    for token in tokens_a:\r\n",
        "        tokens.append(token)\r\n",
        "\r\n",
        "    if include_SEP_token:\r\n",
        "        tokens.append(tokenizer.sep_token)\r\n",
        "\r\n",
        "    input_ids = tokenizer.convert_tokens_to_ids(tokens)\r\n",
        "    ## Input Mask \r\n",
        "    input_mask = [1] * len(input_ids)\r\n",
        "    ## Zero-pad sequence lenght\r\n",
        "    if zero_pad:\r\n",
        "        while len(input_ids) < max_seq_length:\r\n",
        "            input_ids.append(0)\r\n",
        "            input_mask.append(0)\r\n",
        "    return torch.tensor(input_ids).unsqueeze(0), input_mask"
      ],
      "execution_count": null,
      "outputs": []
    },
    {
      "cell_type": "code",
      "metadata": {
        "colab": {
          "base_uri": "https://localhost:8080/"
        },
        "id": "_bTNWbqrwdK6",
        "outputId": "a7264848-f318-4d5b-f1ab-b71684b3d730"
      },
      "source": [
        "msg = \"My dog is cute!\"\r\n",
        "prepare_features(msg)"
      ],
      "execution_count": null,
      "outputs": [
        {
          "output_type": "execute_result",
          "data": {
            "text/plain": [
              "(tensor([[  101,  2026,  3899,  2003, 10140,   999,   102]]),\n",
              " [1, 1, 1, 1, 1, 1, 1])"
            ]
          },
          "metadata": {
            "tags": []
          },
          "execution_count": 35
        }
      ]
    },
    {
      "cell_type": "code",
      "metadata": {
        "id": "0XR4NNmIwgUt"
      },
      "source": [
        "class Intents(Dataset):\r\n",
        "    def __init__(self, dataframe):\r\n",
        "        self.len = len(dataframe)\r\n",
        "        self.data = dataframe\r\n",
        "        \r\n",
        "    def __getitem__(self, index):\r\n",
        "        utterance = self.data.utterance[index]\r\n",
        "        label = self.data.label[index]\r\n",
        "        X, _  = prepare_features(utterance)\r\n",
        "        y = label_to_ix[self.data.label[index]]\r\n",
        "        return X, y\r\n",
        "    \r\n",
        "    def __len__(self):\r\n",
        "        return self.len"
      ],
      "execution_count": null,
      "outputs": []
    },
    {
      "cell_type": "code",
      "metadata": {
        "id": "EpmWGcPKwiua"
      },
      "source": [
        "train_size = 0.8\r\n",
        "train_dataset=dataset.sample(frac=train_size,random_state=200).reset_index(drop=True)\r\n",
        "test_dataset=dataset.drop(train_dataset.index).reset_index(drop=True)"
      ],
      "execution_count": null,
      "outputs": []
    },
    {
      "cell_type": "code",
      "metadata": {
        "colab": {
          "base_uri": "https://localhost:8080/"
        },
        "id": "T_IGqaaJwlGL",
        "outputId": "31bd1512-ea79-4564-9f4e-463ff6365d02"
      },
      "source": [
        "print(\"FULL Dataset: {}\".format(dataset.shape))\r\n",
        "print(\"TRAIN Dataset: {}\".format(train_dataset.shape))\r\n",
        "print(\"TEST Dataset: {}\".format(test_dataset.shape))"
      ],
      "execution_count": null,
      "outputs": [
        {
          "output_type": "stream",
          "text": [
            "FULL Dataset: (2100, 2)\n",
            "TRAIN Dataset: (1680, 2)\n",
            "TEST Dataset: (420, 2)\n"
          ],
          "name": "stdout"
        }
      ]
    },
    {
      "cell_type": "code",
      "metadata": {
        "id": "daddPO8GwnsW"
      },
      "source": [
        "training_set = Intents(train_dataset)\r\n",
        "testing_set = Intents(test_dataset)"
      ],
      "execution_count": null,
      "outputs": []
    },
    {
      "cell_type": "code",
      "metadata": {
        "colab": {
          "base_uri": "https://localhost:8080/"
        },
        "id": "KnxIfC3YwrFt",
        "outputId": "a252b89a-0a5c-40c1-9c2d-2937ced58073"
      },
      "source": [
        "training_set.__getitem__(0)[0].shape"
      ],
      "execution_count": null,
      "outputs": [
        {
          "output_type": "execute_result",
          "data": {
            "text/plain": [
              "torch.Size([1, 8])"
            ]
          },
          "metadata": {
            "tags": []
          },
          "execution_count": 40
        }
      ]
    },
    {
      "cell_type": "code",
      "metadata": {
        "colab": {
          "base_uri": "https://localhost:8080/"
        },
        "id": "_SuLNWWXwt7N",
        "outputId": "01860571-b767-4a77-c29d-36f2807c7795"
      },
      "source": [
        "model(training_set.__getitem__(0)[0])"
      ],
      "execution_count": null,
      "outputs": [
        {
          "output_type": "execute_result",
          "data": {
            "text/plain": [
              "SequenceClassifierOutput([('logits',\n",
              "                           tensor([[ 0.3082, -0.6821,  0.3116, -1.0373,  1.0743,  0.0449,  0.9416]],\n",
              "                                  grad_fn=<AddmmBackward>))])"
            ]
          },
          "metadata": {
            "tags": []
          },
          "execution_count": 41
        }
      ]
    },
    {
      "cell_type": "code",
      "metadata": {
        "id": "QyFCViDDzSRp"
      },
      "source": [
        "tokenizer = FunnelTokenizer.from_pretrained('funnel-transformer/small-base')\r\n",
        "model = FunnelForSequenceClassification(config)"
      ],
      "execution_count": null,
      "outputs": []
    },
    {
      "cell_type": "code",
      "metadata": {
        "id": "rjulDqr3wxWf"
      },
      "source": [
        "device = torch.device(\"cuda\" if torch.cuda.is_available() else \"cpu\")\r\n",
        "model = model.cuda()"
      ],
      "execution_count": null,
      "outputs": []
    },
    {
      "cell_type": "code",
      "metadata": {
        "id": "0fNYdHF3xzH3"
      },
      "source": [
        "# Parameters\r\n",
        "params = {'batch_size': 1,\r\n",
        "          'shuffle': True,\r\n",
        "          'drop_last': False,\r\n",
        "          'num_workers': 1}"
      ],
      "execution_count": null,
      "outputs": []
    },
    {
      "cell_type": "code",
      "metadata": {
        "id": "6ipeBJQex1sv"
      },
      "source": [
        "training_loader = DataLoader(training_set, **params)\r\n",
        "testing_loader = DataLoader(testing_set, **params)"
      ],
      "execution_count": null,
      "outputs": []
    },
    {
      "cell_type": "code",
      "metadata": {
        "id": "U4m8ANXhx4Dx"
      },
      "source": [
        "loss_function = nn.CrossEntropyLoss()\r\n",
        "learning_rate = 1e-05\r\n",
        "optimizer = optim.Adam(params =  model.parameters(), lr=learning_rate)"
      ],
      "execution_count": null,
      "outputs": []
    },
    {
      "cell_type": "code",
      "metadata": {
        "colab": {
          "base_uri": "https://localhost:8080/"
        },
        "id": "yGEAUbzFx6Tr",
        "outputId": "8d7d4c03-b7ac-4f8c-b50c-4f69204e9bd8"
      },
      "source": [
        "## Test Forward Pass\r\n",
        "inp = training_set.__getitem__(0)[0].cuda()\r\n",
        "output = model(inp)[0]\r\n",
        "print(output.shape)"
      ],
      "execution_count": null,
      "outputs": [
        {
          "output_type": "stream",
          "text": [
            "torch.Size([1, 7])\n"
          ],
          "name": "stdout"
        }
      ]
    },
    {
      "cell_type": "code",
      "metadata": {
        "colab": {
          "base_uri": "https://localhost:8080/",
          "height": 35
        },
        "id": "QidTsPvmx8qJ",
        "outputId": "00783aa4-d6a3-466a-a492-10f360868ace"
      },
      "source": [
        "torch.__version__"
      ],
      "execution_count": null,
      "outputs": [
        {
          "output_type": "execute_result",
          "data": {
            "application/vnd.google.colaboratory.intrinsic+json": {
              "type": "string"
            },
            "text/plain": [
              "'1.7.0+cu101'"
            ]
          },
          "metadata": {
            "tags": []
          },
          "execution_count": 48
        }
      ]
    },
    {
      "cell_type": "code",
      "metadata": {
        "colab": {
          "base_uri": "https://localhost:8080/",
          "height": 1000,
          "referenced_widgets": [
            "6c9d2abc8db846cf8995b1e37dc7ebbc",
            "bf8cc1d96cdc41a786d40dea39055018",
            "05253152667645a1b79d5fff6158b26d",
            "248698d0a45945e4adae0a005b2ca882",
            "459acf66374d4310b9b48d831e858e39",
            "6d1f88ed6dc54f98a10c617854443457",
            "f1d90450b7e749b5b7ef72bb3633ee6f",
            "f123000f2454405bbf2eb0a4d253d965"
          ]
        },
        "id": "aMkz-sJGyAzV",
        "outputId": "e3f395a2-275b-4d15-a731-f74ee72db19c"
      },
      "source": [
        "max_epochs = 3\r\n",
        "model = model.train()\r\n",
        "for epoch in tqdm_notebook(range(max_epochs)):\r\n",
        "    print(\"EPOCH -- {}\".format(epoch))\r\n",
        "    for i, (sent, label) in enumerate(training_loader):\r\n",
        "        optimizer.zero_grad()\r\n",
        "        sent = sent.squeeze(0)\r\n",
        "        if torch.cuda.is_available():\r\n",
        "          sent = sent.cuda()\r\n",
        "          label = label.cuda()\r\n",
        "        output = model.forward(sent)[0]\r\n",
        "        _, predicted = torch.max(output, 1)\r\n",
        "        \r\n",
        "        loss = loss_function(output, label)\r\n",
        "        loss.backward()\r\n",
        "        optimizer.step()\r\n",
        "        \r\n",
        "        if i%100 == 0:\r\n",
        "            correct = 0\r\n",
        "            total = 0\r\n",
        "            for sent, label in testing_loader:\r\n",
        "                sent = sent.squeeze(0)\r\n",
        "                if torch.cuda.is_available():\r\n",
        "                  sent = sent.cuda()\r\n",
        "                  label = label.cuda()\r\n",
        "                output = model.forward(sent)[0]\r\n",
        "                _, predicted = torch.max(output.data, 1)\r\n",
        "                total += label.size(0)\r\n",
        "                correct += (predicted.cpu() == label.cpu()).sum()\r\n",
        "            accuracy = 100.00 * correct.numpy() / total\r\n",
        "            print('Iteration: {}. Loss: {}. Accuracy: {}%'.format(i, loss.item(), accuracy))"
      ],
      "execution_count": null,
      "outputs": [
        {
          "output_type": "stream",
          "text": [
            "/usr/local/lib/python3.6/dist-packages/ipykernel_launcher.py:3: TqdmDeprecationWarning: This function will be removed in tqdm==5.0.0\n",
            "Please use `tqdm.notebook.tqdm` instead of `tqdm.tqdm_notebook`\n",
            "  This is separate from the ipykernel package so we can avoid doing imports until\n"
          ],
          "name": "stderr"
        },
        {
          "output_type": "display_data",
          "data": {
            "application/vnd.jupyter.widget-view+json": {
              "model_id": "6c9d2abc8db846cf8995b1e37dc7ebbc",
              "version_minor": 0,
              "version_major": 2
            },
            "text/plain": [
              "HBox(children=(FloatProgress(value=0.0, max=3.0), HTML(value='')))"
            ]
          },
          "metadata": {
            "tags": []
          }
        },
        {
          "output_type": "stream",
          "text": [
            "EPOCH -- 0\n",
            "Iteration: 0. Loss: 2.626661777496338. Accuracy: 15.238095238095237%\n",
            "Iteration: 100. Loss: 0.4770510792732239. Accuracy: 35.714285714285715%\n",
            "Iteration: 200. Loss: 0.38469088077545166. Accuracy: 71.19047619047619%\n",
            "Iteration: 300. Loss: 0.05145356431603432. Accuracy: 85.47619047619048%\n",
            "Iteration: 400. Loss: 0.03226786479353905. Accuracy: 74.52380952380952%\n",
            "Iteration: 500. Loss: 0.04514886438846588. Accuracy: 73.33333333333333%\n",
            "Iteration: 600. Loss: 0.0030939350835978985. Accuracy: 88.0952380952381%\n",
            "Iteration: 700. Loss: 0.003863966092467308. Accuracy: 59.04761904761905%\n",
            "Iteration: 800. Loss: 4.863243103027344. Accuracy: 93.0952380952381%\n",
            "Iteration: 900. Loss: 0.004088615067303181. Accuracy: 84.28571428571429%\n",
            "Iteration: 1000. Loss: 1.2305256128311157. Accuracy: 86.9047619047619%\n",
            "Iteration: 1100. Loss: 0.031246880069375038. Accuracy: 91.66666666666667%\n",
            "Iteration: 1200. Loss: 1.460211992263794. Accuracy: 94.76190476190476%\n",
            "Iteration: 1300. Loss: 2.404374361038208. Accuracy: 92.38095238095238%\n",
            "Iteration: 1400. Loss: 0.0011731653939932585. Accuracy: 92.85714285714286%\n",
            "Iteration: 1500. Loss: 0.03516404330730438. Accuracy: 70.47619047619048%\n",
            "Iteration: 1600. Loss: 0.0021121830213814974. Accuracy: 90.95238095238095%\n",
            "EPOCH -- 1\n",
            "Iteration: 0. Loss: 0.0011559001868590713. Accuracy: 80.23809523809524%\n",
            "Iteration: 100. Loss: 0.055543798953294754. Accuracy: 93.80952380952381%\n",
            "Iteration: 200. Loss: 0.0045617325231432915. Accuracy: 87.38095238095238%\n",
            "Iteration: 300. Loss: 0.005113855004310608. Accuracy: 90.95238095238095%\n",
            "Iteration: 400. Loss: 0.015286783687770367. Accuracy: 94.28571428571429%\n",
            "Iteration: 500. Loss: 0.017951281741261482. Accuracy: 90.0%\n",
            "Iteration: 600. Loss: 0.005660101771354675. Accuracy: 93.57142857142857%\n",
            "Iteration: 700. Loss: 0.01031036302447319. Accuracy: 96.42857142857143%\n",
            "Iteration: 800. Loss: 0.0010521834483370185. Accuracy: 97.38095238095238%\n",
            "Iteration: 900. Loss: 0.31767573952674866. Accuracy: 97.85714285714286%\n",
            "Iteration: 1000. Loss: 0.3871817886829376. Accuracy: 96.9047619047619%\n",
            "Iteration: 1100. Loss: 0.010408994741737843. Accuracy: 94.52380952380952%\n",
            "Iteration: 1200. Loss: 0.01676388643682003. Accuracy: 98.33333333333333%\n",
            "Iteration: 1300. Loss: 0.008437935262918472. Accuracy: 96.42857142857143%\n",
            "Iteration: 1400. Loss: 0.0009601273923180997. Accuracy: 92.61904761904762%\n",
            "Iteration: 1500. Loss: 0.002768733073025942. Accuracy: 98.33333333333333%\n",
            "Iteration: 1600. Loss: 1.1779015064239502. Accuracy: 98.0952380952381%\n",
            "EPOCH -- 2\n",
            "Iteration: 0. Loss: 0.005198769737035036. Accuracy: 99.28571428571429%\n",
            "Iteration: 100. Loss: 0.004758937284350395. Accuracy: 94.76190476190476%\n",
            "Iteration: 200. Loss: 0.0011100566480308771. Accuracy: 99.76190476190476%\n",
            "Iteration: 300. Loss: 0.002929921029135585. Accuracy: 98.33333333333333%\n",
            "Iteration: 400. Loss: 0.0023651740048080683. Accuracy: 98.33333333333333%\n",
            "Iteration: 500. Loss: 0.008878279477357864. Accuracy: 94.76190476190476%\n",
            "Iteration: 600. Loss: 0.0021309780422598124. Accuracy: 99.28571428571429%\n",
            "Iteration: 700. Loss: 0.0014328223187476397. Accuracy: 90.71428571428571%\n",
            "Iteration: 800. Loss: 0.01565406285226345. Accuracy: 90.71428571428571%\n",
            "Iteration: 900. Loss: 0.001210195361636579. Accuracy: 99.76190476190476%\n",
            "Iteration: 1000. Loss: 0.00036900385748595. Accuracy: 99.52380952380952%\n",
            "Iteration: 1100. Loss: 0.017741555348038673. Accuracy: 50.95238095238095%\n",
            "Iteration: 1200. Loss: 0.24633567035198212. Accuracy: 98.33333333333333%\n",
            "Iteration: 1300. Loss: 0.02743065170943737. Accuracy: 82.85714285714286%\n",
            "Iteration: 1400. Loss: 0.00119066855404526. Accuracy: 86.19047619047619%\n",
            "Iteration: 1500. Loss: 0.046975016593933105. Accuracy: 91.9047619047619%\n",
            "Iteration: 1600. Loss: 0.0006812873762100935. Accuracy: 88.80952380952381%\n",
            "\n"
          ],
          "name": "stdout"
        }
      ]
    },
    {
      "cell_type": "code",
      "metadata": {
        "id": "GBEQNs0KyD8q"
      },
      "source": [
        " torch.save(model.state_dict(), 'drive/My Drive/Datasets/Funnel_state_dict_'+ str(uuid4())+'.pth')"
      ],
      "execution_count": null,
      "outputs": []
    },
    {
      "cell_type": "code",
      "metadata": {
        "id": "vNNTMyMOyGWC"
      },
      "source": [
        "model_path = '/content/drive/MyDrive/Datasets/Funnel_state_dict_1a0b7ecb-9385-4c94-b3dd-0f54b74212aa.pth'"
      ],
      "execution_count": null,
      "outputs": []
    },
    {
      "cell_type": "code",
      "metadata": {
        "colab": {
          "base_uri": "https://localhost:8080/"
        },
        "id": "dBa0CWScyJMN",
        "outputId": "72d4bff6-cb6e-4820-f55a-ee7b09ef5248"
      },
      "source": [
        "model.load_state_dict(torch.load(model_path, map_location=device))"
      ],
      "execution_count": null,
      "outputs": [
        {
          "output_type": "execute_result",
          "data": {
            "text/plain": [
              "<All keys matched successfully>"
            ]
          },
          "metadata": {
            "tags": []
          },
          "execution_count": 55
        }
      ]
    },
    {
      "cell_type": "code",
      "metadata": {
        "id": "fc3B6KFZyLd9"
      },
      "source": [
        "def get_reply(msg):\r\n",
        "  model.eval()\r\n",
        "  input_msg, _ = prepare_features(msg)\r\n",
        "  if torch.cuda.is_available():\r\n",
        "    input_msg = input_msg.cuda()\r\n",
        "  output = model(input_msg)[0]\r\n",
        "  _, pred_label = torch.max(output.data, 1)\r\n",
        "  prediction=list(label_to_ix.keys())[pred_label]\r\n",
        "  return prediction"
      ],
      "execution_count": null,
      "outputs": []
    },
    {
      "cell_type": "code",
      "metadata": {
        "colab": {
          "base_uri": "https://localhost:8080/"
        },
        "id": "fvkMnKkByNc1",
        "outputId": "9343a9c2-6b8d-4363-d183-8613563d41c1"
      },
      "source": [
        "label_to_ix.keys()"
      ],
      "execution_count": null,
      "outputs": [
        {
          "output_type": "execute_result",
          "data": {
            "text/plain": [
              "dict_keys(['AddToPlaylist', 'BookRestaurant', 'GetWeather', 'PlayMusic', 'RateBook', 'SearchCreativeWork', 'SearchScreeningEvent'])"
            ]
          },
          "metadata": {
            "tags": []
          },
          "execution_count": 57
        }
      ]
    },
    {
      "cell_type": "code",
      "metadata": {
        "colab": {
          "base_uri": "https://localhost:8080/",
          "height": 35
        },
        "id": "26j_THqHyPoe",
        "outputId": "23fa050b-6f6c-45a3-ee70-0fe5968c0d18"
      },
      "source": [
        "get_reply(\"play radiohead song\")"
      ],
      "execution_count": null,
      "outputs": [
        {
          "output_type": "execute_result",
          "data": {
            "application/vnd.google.colaboratory.intrinsic+json": {
              "type": "string"
            },
            "text/plain": [
              "'PlayMusic'"
            ]
          },
          "metadata": {
            "tags": []
          },
          "execution_count": 58
        }
      ]
    },
    {
      "cell_type": "code",
      "metadata": {
        "colab": {
          "base_uri": "https://localhost:8080/",
          "height": 35
        },
        "id": "zKx5OT7kySOp",
        "outputId": "8ea0602e-1ce7-4a74-e02b-53106ff6aa01"
      },
      "source": [
        "get_reply(\"it is rainy in Sao Paulo\")"
      ],
      "execution_count": null,
      "outputs": [
        {
          "output_type": "execute_result",
          "data": {
            "application/vnd.google.colaboratory.intrinsic+json": {
              "type": "string"
            },
            "text/plain": [
              "'GetWeather'"
            ]
          },
          "metadata": {
            "tags": []
          },
          "execution_count": 60
        }
      ]
    },
    {
      "cell_type": "code",
      "metadata": {
        "colab": {
          "base_uri": "https://localhost:8080/",
          "height": 35
        },
        "id": "v15b1BwoyUcE",
        "outputId": "1e5e9e44-2a95-40f8-a3e7-8cf8f5eaeba2"
      },
      "source": [
        "get_reply(\"sun shinnes all day\")"
      ],
      "execution_count": null,
      "outputs": [
        {
          "output_type": "execute_result",
          "data": {
            "application/vnd.google.colaboratory.intrinsic+json": {
              "type": "string"
            },
            "text/plain": [
              "'RateBook'"
            ]
          },
          "metadata": {
            "tags": []
          },
          "execution_count": 62
        }
      ]
    },
    {
      "cell_type": "code",
      "metadata": {
        "colab": {
          "base_uri": "https://localhost:8080/",
          "height": 35
        },
        "id": "CS2L-bRxyWVt",
        "outputId": "0eef3474-22b3-42f4-aa8e-4c15090d2f73"
      },
      "source": [
        "get_reply(\"low humidity, high altitude\")"
      ],
      "execution_count": null,
      "outputs": [
        {
          "output_type": "execute_result",
          "data": {
            "application/vnd.google.colaboratory.intrinsic+json": {
              "type": "string"
            },
            "text/plain": [
              "'RateBook'"
            ]
          },
          "metadata": {
            "tags": []
          },
          "execution_count": 63
        }
      ]
    },
    {
      "cell_type": "code",
      "metadata": {
        "colab": {
          "base_uri": "https://localhost:8080/",
          "height": 35
        },
        "id": "iu6ieVLDyYP1",
        "outputId": "ddb430f8-11cf-436d-be16-8aba58df8943"
      },
      "source": [
        "get_reply(\"Book tacos for me tonight\")"
      ],
      "execution_count": null,
      "outputs": [
        {
          "output_type": "execute_result",
          "data": {
            "application/vnd.google.colaboratory.intrinsic+json": {
              "type": "string"
            },
            "text/plain": [
              "'BookRestaurant'"
            ]
          },
          "metadata": {
            "tags": []
          },
          "execution_count": 64
        }
      ]
    },
    {
      "cell_type": "code",
      "metadata": {
        "colab": {
          "base_uri": "https://localhost:8080/",
          "height": 35
        },
        "id": "-65bvukvyZ89",
        "outputId": "60f981df-5ce4-4360-d55c-69f8e8954d27"
      },
      "source": [
        "get_reply(\"Book a table for me tonight\")"
      ],
      "execution_count": null,
      "outputs": [
        {
          "output_type": "execute_result",
          "data": {
            "application/vnd.google.colaboratory.intrinsic+json": {
              "type": "string"
            },
            "text/plain": [
              "'BookRestaurant'"
            ]
          },
          "metadata": {
            "tags": []
          },
          "execution_count": 65
        }
      ]
    },
    {
      "cell_type": "code",
      "metadata": {
        "colab": {
          "base_uri": "https://localhost:8080/",
          "height": 35
        },
        "id": "ESu9xmz4ybn9",
        "outputId": "23f2ba7f-4fdb-41b3-d2c2-4d01a3c91f82"
      },
      "source": [
        "get_reply(\"I want BBQ tonight\")"
      ],
      "execution_count": null,
      "outputs": [
        {
          "output_type": "execute_result",
          "data": {
            "application/vnd.google.colaboratory.intrinsic+json": {
              "type": "string"
            },
            "text/plain": [
              "'PlayMusic'"
            ]
          },
          "metadata": {
            "tags": []
          },
          "execution_count": 66
        }
      ]
    }
  ]
}